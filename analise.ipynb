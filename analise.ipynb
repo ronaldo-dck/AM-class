{
 "cells": [
  {
   "cell_type": "code",
   "execution_count": 1,
   "metadata": {},
   "outputs": [],
   "source": [
    "import numpy as np\n",
    "import pandas as pd\n",
    "from scipy.stats import kruskal, mannwhitneyu"
   ]
  },
  {
   "cell_type": "code",
   "execution_count": 9,
   "metadata": {},
   "outputs": [
    {
     "name": "stdout",
     "output_type": "stream",
     "text": [
      "KNN: [0.8422712933753943, 0.8501577287066246, 0.8391167192429022, 0.8454258675078864, 0.8406940063091483, 0.8438485804416404, 0.8406940063091483, 0.8438485804416404, 0.8438485804416404, 0.8406940063091483, 0.8438485804416404, 0.8406940063091483, 0.8406940063091483, 0.8422712933753943, 0.8438485804416404, 0.8485804416403786, 0.8438485804416404, 0.8470031545741324, 0.8422712933753943, 0.8406940063091483]\n",
      "NB: [0.0946372239747634, 0.3690851735015772, 0.11198738170347, 0.0899053627760252, 0.1593059936908517, 0.0883280757097791, 0.1750788643533123, 0.7712933753943217, 0.0867507886435331, 0.113564668769716, 0.1214511041009463, 0.2050473186119873, 0.2271293375394321, 0.0804416403785489, 0.1088328075709779, 0.1908517350157728, 0.3675078864353312, 0.1214511041009463, 0.3406940063091482, 0.1498422712933754]\n",
      "MLP: [0.8359621451104101, 0.8454258675078864, 0.8406940063091483, 0.8249211356466877, 0.8517350157728707, 0.8533123028391167, 0.831230283911672, 0.8485804416403786, 0.8391167192429022, 0.8391167192429022, 0.8454258675078864, 0.8359621451104101, 0.8422712933753943, 0.832807570977918, 0.8454258675078864, 0.8438485804416404, 0.8359621451104101, 0.8391167192429022, 0.8391167192429022, 0.8249211356466877]\n",
      "AD: [0.831230283911672, 0.8359621451104101, 0.8422712933753943, 0.831230283911672, 0.8343848580441641, 0.8391167192429022, 0.8233438485804416, 0.8343848580441641, 0.8359621451104101, 0.8422712933753943, 0.8264984227129337, 0.8249211356466877, 0.8233438485804416, 0.831230283911672, 0.8375394321766562, 0.8406940063091483, 0.8375394321766562, 0.8422712933753943, 0.8375394321766562, 0.8154574132492114]\n",
      "SVM: [0.8422712933753943, 0.8264984227129337, 0.8359621451104101, 0.8391167192429022, 0.8422712933753943, 0.832807570977918, 0.8422712933753943, 0.7902208201892744, 0.8422712933753943, 0.8217665615141956, 0.8422712933753943, 0.8454258675078864, 0.8343848580441641, 0.8438485804416404, 0.8343848580441641, 0.8406940063091483, 0.8422712933753943, 0.8359621451104101, 0.8422712933753943, 0.8138801261829653]\n",
      "Soma: [0.8391167192429022, 0.8375394321766562, 0.8470031545741324, 0.8438485804416404, 0.8454258675078864, 0.8517350157728707, 0.8375394321766562, 0.8438485804416404, 0.8438485804416404, 0.8375394321766562, 0.8501577287066246, 0.8391167192429022, 0.8343848580441641, 0.8406940063091483, 0.8406940063091483, 0.8406940063091483, 0.8422712933753943, 0.8438485804416404, 0.8422712933753943, 0.8375394321766562]\n",
      "Voto Majoritário: [0.8422712933753943, 0.8391167192429022, 0.8454258675078864, 0.8454258675078864, 0.8470031545741324, 0.8454258675078864, 0.8406940063091483, 0.8422712933753943, 0.8438485804416404, 0.8422712933753943, 0.8438485804416404, 0.8470031545741324, 0.8422712933753943, 0.8422712933753943, 0.8438485804416404, 0.8485804416403786, 0.8422712933753943, 0.8438485804416404, 0.8422712933753943, 0.832807570977918]\n",
      "Borda Count: [0.7917981072555205, 0.4936908517350157, 0.7791798107255521, 0.7839116719242902, 0.7381703470031545, 0.7728706624605678, 0.692429022082019, 0.1798107255520504, 0.7839116719242902, 0.7460567823343849, 0.7539432176656151, 0.667192429022082, 0.6498422712933754, 0.8028391167192429, 0.7634069400630915, 0.6908517350157729, 0.4968454258675079, 0.7602523659305994, 0.5236593059936908, 0.7129337539432177]\n"
     ]
    }
   ],
   "source": [
    "df = pd.read_csv('logs2.csv')\n",
    "\n",
    "\n",
    "knn = df[df['alg'] == 'KNN']['acc'].tolist()\n",
    "\n",
    "nb = df[df['alg'] == 'NB']['acc'].tolist()\n",
    "mlp = df[df['alg'] == 'MLP']['acc'].tolist()\n",
    "ad = df[df['alg'] == 'AD']['acc'].tolist()\n",
    "svm = df[df['alg'] == 'SVM']['acc'].tolist()\n",
    "soma = df[df['alg'] == 'Soma']['acc'].tolist()\n",
    "voto_majoritario = df[df['alg'] == 'VotoMajoritário']['acc'].tolist()\n",
    "borda_count = df[df['alg'] == 'BordaCount']['acc'].tolist()\n",
    "\n",
    "print(\"KNN:\", knn)\n",
    "print(\"NB:\", nb)\n",
    "print(\"MLP:\", mlp)\n",
    "print(\"AD:\", ad)\n",
    "print(\"SVM:\", svm)\n",
    "print(\"Soma:\", soma)\n",
    "print(\"Voto Majoritário:\", voto_majoritario)\n",
    "print(\"Borda Count:\", borda_count)\n"
   ]
  },
  {
   "cell_type": "code",
   "execution_count": 10,
   "metadata": {},
   "outputs": [
    {
     "name": "stdout",
     "output_type": "stream",
     "text": [
      "Estatística H: 61.423122128013695\n",
      "Valor-p: 1.4566530442931146e-12\n",
      "Rejeitamos H0. Há pelo menos um classificador com desempenho diferente.\n"
     ]
    }
   ],
   "source": [
    "stat, p_value = kruskal(knn, ad, nb, svm, mlp)\n",
    "\n",
    "print(f\"Estatística H: {stat}\")\n",
    "print(f\"Valor-p: {p_value}\")\n",
    "\n",
    "if p_value < 0.05:\n",
    "    print(\"Rejeitamos H0. Há pelo menos um classificador com desempenho diferente.\")\n",
    "else:\n",
    "    print(\"Falha em rejeitar H0. Não há evidência suficiente para afirmar que algum classificador tenha desempenho diferente.\")\n"
   ]
  },
  {
   "cell_type": "code",
   "execution_count": 11,
   "metadata": {},
   "outputs": [
    {
     "name": "stdout",
     "output_type": "stream",
     "text": [
      "KNN vs AD: p-valor = 0.00000\n",
      "  -> Diferença significativa entre os grupos KNN vs AD.\n",
      "KNN vs NB: p-valor = 0.00000\n",
      "  -> Diferença significativa entre os grupos KNN vs NB.\n",
      "KNN vs SVM: p-valor = 0.00366\n",
      "  -> Diferença significativa entre os grupos KNN vs SVM.\n",
      "KNN vs MLP: p-valor = 0.08113\n",
      "  -> Sem diferença significativa entre os grupos KNN vs MLP.\n",
      "AD vs NB: p-valor = 0.00000\n",
      "  -> Diferença significativa entre os grupos AD vs NB.\n",
      "AD vs SVM: p-valor = 0.13674\n",
      "  -> Sem diferença significativa entre os grupos AD vs SVM.\n",
      "AD vs MLP: p-valor = 0.01350\n",
      "  -> Diferença significativa entre os grupos AD vs MLP.\n",
      "NB vs SVM: p-valor = 0.00000\n",
      "  -> Diferença significativa entre os grupos NB vs SVM.\n",
      "NB vs MLP: p-valor = 0.00000\n",
      "  -> Diferença significativa entre os grupos NB vs MLP.\n",
      "SVM vs MLP: p-valor = 0.30082\n",
      "  -> Sem diferença significativa entre os grupos SVM vs MLP.\n"
     ]
    }
   ],
   "source": [
    "comparacoes = [\n",
    "    ('KNN vs AD', knn, ad),\n",
    "    ('KNN vs NB', knn, nb),\n",
    "    ('KNN vs SVM', knn, svm),\n",
    "    ('KNN vs MLP', knn, mlp),\n",
    "    ('AD vs NB', ad, nb),\n",
    "    ('AD vs SVM', ad, svm),\n",
    "    ('AD vs MLP', ad, mlp),\n",
    "    ('NB vs SVM', nb, svm),\n",
    "    ('NB vs MLP', nb, mlp),\n",
    "    ('SVM vs MLP', svm, mlp)\n",
    "]\n",
    "\n",
    "for nome, grupo1, grupo2 in comparacoes:\n",
    "    stat, p_value = mannwhitneyu(grupo1, grupo2)\n",
    "    print(f\"{nome}: p-valor = {p_value:.5f}\")\n",
    "    if p_value < 0.05:\n",
    "        print(f\"  -> Diferença significativa entre os grupos {nome}.\")\n",
    "    else:\n",
    "        print(f\"  -> Sem diferença significativa entre os grupos {nome}.\")\n"
   ]
  }
 ],
 "metadata": {
  "kernelspec": {
   "display_name": "Python 3",
   "language": "python",
   "name": "python3"
  },
  "language_info": {
   "codemirror_mode": {
    "name": "ipython",
    "version": 3
   },
   "file_extension": ".py",
   "mimetype": "text/x-python",
   "name": "python",
   "nbconvert_exporter": "python",
   "pygments_lexer": "ipython3",
   "version": "3.10.12"
  }
 },
 "nbformat": 4,
 "nbformat_minor": 2
}
