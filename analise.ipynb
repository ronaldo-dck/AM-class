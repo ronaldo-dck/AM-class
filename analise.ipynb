{
 "cells": [
  {
   "cell_type": "code",
   "execution_count": 1,
   "metadata": {},
   "outputs": [],
   "source": [
    "import numpy as np\n",
    "import pandas as pd\n",
    "from scipy.stats import kruskal, mannwhitneyu"
   ]
  },
  {
   "cell_type": "code",
   "execution_count": 9,
   "metadata": {},
   "outputs": [
    {
     "name": "stdout",
     "output_type": "stream",
     "text": [
      "KNN: [0.8422712933753943, 0.8501577287066246, 0.8391167192429022, 0.8454258675078864, 0.8406940063091483, 0.8438485804416404, 0.8406940063091483, 0.8438485804416404, 0.8438485804416404, 0.8406940063091483, 0.8438485804416404, 0.8406940063091483, 0.8406940063091483, 0.8422712933753943, 0.8438485804416404, 0.8485804416403786, 0.8438485804416404, 0.8470031545741324, 0.8422712933753943, 0.8406940063091483]\n",
      "NB: [0.0946372239747634, 0.3690851735015772, 0.11198738170347, 0.0899053627760252, 0.1593059936908517, 0.0883280757097791, 0.1750788643533123, 0.7712933753943217, 0.0867507886435331, 0.113564668769716, 0.1214511041009463, 0.2050473186119873, 0.2271293375394321, 0.0804416403785489, 0.1088328075709779, 0.1908517350157728, 0.3675078864353312, 0.1214511041009463, 0.3406940063091482, 0.1498422712933754]\n",
      "MLP: [0.8359621451104101, 0.8454258675078864, 0.8406940063091483, 0.8249211356466877, 0.8517350157728707, 0.8533123028391167, 0.831230283911672, 0.8485804416403786, 0.8391167192429022, 0.8391167192429022, 0.8454258675078864, 0.8359621451104101, 0.8422712933753943, 0.832807570977918, 0.8454258675078864, 0.8438485804416404, 0.8359621451104101, 0.8391167192429022, 0.8391167192429022, 0.8249211356466877]\n",
      "AD: [0.831230283911672, 0.8359621451104101, 0.8422712933753943, 0.831230283911672, 0.8343848580441641, 0.8391167192429022, 0.8233438485804416, 0.8343848580441641, 0.8359621451104101, 0.8422712933753943, 0.8264984227129337, 0.8249211356466877, 0.8233438485804416, 0.831230283911672, 0.8375394321766562, 0.8406940063091483, 0.8375394321766562, 0.8422712933753943, 0.8375394321766562, 0.8154574132492114]\n",
      "SVM: [0.8422712933753943, 0.8264984227129337, 0.8359621451104101, 0.8391167192429022, 0.8422712933753943, 0.832807570977918, 0.8422712933753943, 0.7902208201892744, 0.8422712933753943, 0.8217665615141956, 0.8422712933753943, 0.8454258675078864, 0.8343848580441641, 0.8438485804416404, 0.8343848580441641, 0.8406940063091483, 0.8422712933753943, 0.8359621451104101, 0.8422712933753943, 0.8138801261829653]\n",
      "Soma: [0.8391167192429022, 0.8375394321766562, 0.8470031545741324, 0.8438485804416404, 0.8454258675078864, 0.8517350157728707, 0.8375394321766562, 0.8438485804416404, 0.8438485804416404, 0.8375394321766562, 0.8501577287066246, 0.8391167192429022, 0.8343848580441641, 0.8406940063091483, 0.8406940063091483, 0.8406940063091483, 0.8422712933753943, 0.8438485804416404, 0.8422712933753943, 0.8375394321766562]\n",
      "Voto Majoritário: [0.8422712933753943, 0.8391167192429022, 0.8454258675078864, 0.8454258675078864, 0.8470031545741324, 0.8454258675078864, 0.8406940063091483, 0.8422712933753943, 0.8438485804416404, 0.8422712933753943, 0.8438485804416404, 0.8470031545741324, 0.8422712933753943, 0.8422712933753943, 0.8438485804416404, 0.8485804416403786, 0.8422712933753943, 0.8438485804416404, 0.8422712933753943, 0.832807570977918]\n",
      "Borda Count: [0.7917981072555205, 0.4936908517350157, 0.7791798107255521, 0.7839116719242902, 0.7381703470031545, 0.7728706624605678, 0.692429022082019, 0.1798107255520504, 0.7839116719242902, 0.7460567823343849, 0.7539432176656151, 0.667192429022082, 0.6498422712933754, 0.8028391167192429, 0.7634069400630915, 0.6908517350157729, 0.4968454258675079, 0.7602523659305994, 0.5236593059936908, 0.7129337539432177]\n"
     ]
    }
   ],
   "source": [
    "df = pd.read_csv('logs2.csv')\n",
    "\n",
    "\n",
    "knn = df[df['alg'] == 'KNN']['acc'].tolist()\n",
    "\n",
    "nb = df[df['alg'] == 'NB']['acc'].tolist()\n",
    "mlp = df[df['alg'] == 'MLP']['acc'].tolist()\n",
    "ad = df[df['alg'] == 'AD']['acc'].tolist()\n",
    "svm = df[df['alg'] == 'SVM']['acc'].tolist()\n",
    "soma = df[df['alg'] == 'Soma']['acc'].tolist()\n",
    "voto_majoritario = df[df['alg'] == 'VotoMajoritário']['acc'].tolist()\n",
    "borda_count = df[df['alg'] == 'BordaCount']['acc'].tolist()\n",
    "\n",
    "print(\"KNN:\", knn)\n",
    "print(\"NB:\", nb)\n",
    "print(\"MLP:\", mlp)\n",
    "print(\"AD:\", ad)\n",
    "print(\"SVM:\", svm)\n",
    "print(\"Soma:\", soma)\n",
    "print(\"Voto Majoritário:\", voto_majoritario)\n",
    "print(\"Borda Count:\", borda_count)\n"
   ]
  },
  {
   "cell_type": "code",
   "execution_count": 10,
   "metadata": {},
   "outputs": [
    {
     "name": "stdout",
     "output_type": "stream",
     "text": [
      "Estatística H: 61.423122128013695\n",
      "Valor-p: 1.4566530442931146e-12\n",
      "Rejeitamos H0. Há pelo menos um classificador com desempenho diferente.\n"
     ]
    }
   ],
   "source": [
    "stat, p_value = kruskal(knn, ad, nb, svm, mlp)\n",
    "\n",
    "print(f\"Estatística H: {stat}\")\n",
    "print(f\"Valor-p: {p_value}\")\n",
    "\n",
    "if p_value < 0.05:\n",
    "    print(\"Rejeitamos H0. Há pelo menos um classificador com desempenho diferente.\")\n",
    "else:\n",
    "    print(\"Falha em rejeitar H0. Não há evidência suficiente para afirmar que algum classificador tenha desempenho diferente.\")\n"
   ]
  },
  {
   "cell_type": "code",
   "execution_count": 12,
   "metadata": {},
   "outputs": [
    {
     "name": "stdout",
     "output_type": "stream",
     "text": [
      "   Comparação  Estatística U       Valor-p Diferença Significativa\n",
      "0   KNN vs AD          370.0  3.931728e-06                     Sim\n",
      "1   KNN vs NB          400.0  6.109122e-08                     Sim\n",
      "2  KNN vs SVM          306.5  3.662396e-03                     Sim\n",
      "3  KNN vs MLP          264.5  8.112773e-02                     Não\n",
      "4    AD vs NB          400.0  6.643792e-08                     Sim\n",
      "5   AD vs SVM          145.0  1.367394e-01                     Não\n",
      "6   AD vs MLP          108.5  1.350136e-02                     Sim\n",
      "7   NB vs SVM            0.0  6.250282e-08                     Sim\n",
      "8   NB vs MLP            0.0  6.606300e-08                     Sim\n",
      "9  SVM vs MLP          161.5  3.008225e-01                     Não\n"
     ]
    }
   ],
   "source": [
    "comparacoes = [\n",
    "    ('KNN vs AD', knn, ad),\n",
    "    ('KNN vs NB', knn, nb),\n",
    "    ('KNN vs SVM', knn, svm),\n",
    "    ('KNN vs MLP', knn, mlp),\n",
    "    ('AD vs NB', ad, nb),\n",
    "    ('AD vs SVM', ad, svm),\n",
    "    ('AD vs MLP', ad, mlp),\n",
    "    ('NB vs SVM', nb, svm),\n",
    "    ('NB vs MLP', nb, mlp),\n",
    "    ('SVM vs MLP', svm, mlp)\n",
    "]\n",
    "\n",
    "\n",
    "# Lista para armazenar os resultados\n",
    "resultados = []\n",
    "\n",
    "for nome, grupo1, grupo2 in comparacoes:\n",
    "    stat, p_value = mannwhitneyu(grupo1, grupo2)\n",
    "    significancia = \"Sim\" if p_value < 0.05 else \"Não\"\n",
    "    resultados.append([nome, stat, p_value, significancia])\n",
    "\n",
    "# Criar um DataFrame para exibir os resultados\n",
    "tabela_resultados = pd.DataFrame(resultados, columns=[\"Comparação\", \"Estatística U\", \"Valor-p\", \"Diferença Significativa\"])\n",
    "\n",
    "# Exibir a tabela\n",
    "print(tabela_resultados)"
   ]
  },
  {
   "cell_type": "code",
   "execution_count": 13,
   "metadata": {},
   "outputs": [
    {
     "name": "stdout",
     "output_type": "stream",
     "text": [
      "Estatística H: 40.43695974487369\n",
      "Valor-p: 1.6566309047038732e-09\n",
      "Rejeitamos H0. Há pelo menos um classificador com desempenho diferente.\n"
     ]
    }
   ],
   "source": [
    "stat, p_value = kruskal(soma, voto_majoritario, borda_count)\n",
    "print(f\"Estatística H: {stat}\")\n",
    "print(f\"Valor-p: {p_value}\")\n",
    "\n",
    "if p_value < 0.05:\n",
    "    print(\"Rejeitamos H0. Há pelo menos um classificador com desempenho diferente.\")\n",
    "else:\n",
    "    print(\"Falha em rejeitar H0. Não há evidência suficiente para afirmar que algum classificador tenha desempenho diferente.\")\n"
   ]
  },
  {
   "cell_type": "code",
   "execution_count": 14,
   "metadata": {},
   "outputs": [
    {
     "name": "stdout",
     "output_type": "stream",
     "text": [
      "                        Comparação  Estatística U       Valor-p  \\\n",
      "0         Soma vs Voto Majoritário          150.0  1.755955e-01   \n",
      "1              Soma vs Borda Count          400.0  6.541131e-08   \n",
      "2  Voto Majoritário vs Borda Count          400.0  6.135377e-08   \n",
      "\n",
      "  Diferença Significativa  \n",
      "0                     Não  \n",
      "1                     Sim  \n",
      "2                     Sim  \n"
     ]
    }
   ],
   "source": [
    "comparacoes = [\n",
    "    ('Soma vs Voto Majoritário', soma, voto_majoritario),\n",
    "    ('Soma vs Borda Count', soma, borda_count),\n",
    "    ('Voto Majoritário vs Borda Count', voto_majoritario, borda_count)\n",
    "]\n",
    "\n",
    "# Lista para armazenar os resultados\n",
    "resultados = []\n",
    "\n",
    "# Realizar o teste de Mann-Whitney para cada par de classificadores\n",
    "for nome, grupo1, grupo2 in comparacoes:\n",
    "    stat, p_value = mannwhitneyu(grupo1, grupo2)\n",
    "    significancia = \"Sim\" if p_value < 0.05 else \"Não\"\n",
    "    resultados.append([nome, stat, p_value, significancia])\n",
    "\n",
    "# Criar um DataFrame para exibir os resultados\n",
    "tabela_resultados = pd.DataFrame(resultados, columns=[\"Comparação\", \"Estatística U\", \"Valor-p\", \"Diferença Significativa\"])\n",
    "\n",
    "# Exibir a tabela\n",
    "print(tabela_resultados)"
   ]
  }
 ],
 "metadata": {
  "kernelspec": {
   "display_name": "Python 3",
   "language": "python",
   "name": "python3"
  },
  "language_info": {
   "codemirror_mode": {
    "name": "ipython",
    "version": 3
   },
   "file_extension": ".py",
   "mimetype": "text/x-python",
   "name": "python",
   "nbconvert_exporter": "python",
   "pygments_lexer": "ipython3",
   "version": "3.10.12"
  }
 },
 "nbformat": 4,
 "nbformat_minor": 2
}
