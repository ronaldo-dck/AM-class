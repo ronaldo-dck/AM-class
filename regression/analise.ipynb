{
 "cells": [
  {
   "cell_type": "code",
   "execution_count": 24,
   "metadata": {},
   "outputs": [],
   "source": [
    "import numpy as np\n",
    "import pandas as pd\n",
    "import matplotlib.pyplot as plt\n",
    "from scipy.stats import kruskal, mannwhitneyu"
   ]
  },
  {
   "cell_type": "code",
   "execution_count": 38,
   "metadata": {},
   "outputs": [
    {
     "name": "stdout",
     "output_type": "stream",
     "text": [
      "KNR: [347082.16184688685, 350469.60785086546, 356924.6884265556, 359247.276284506, 354679.0360713801, 357068.0875520777, 363166.6610575346, 351418.0753065156, 344741.2258993852, 345068.90220982535, 349340.83178172854, 366539.5180417448, 352214.4245665101, 369222.0083337137, 365718.99012487096, 358292.4852631679, 371082.5576897597, 345832.80065913626, 344871.02012300503, 356265.1233317804]\n",
      "MLP: [40927.49782703316, 31118.598601647496, 71216.03400666821, 33235.690710855844, 33272.49203770659, 32853.77539836445, 39924.182578534055, 31782.674370665984, 37169.67374791508, 47015.91552775307, 47875.22074615442, 41221.06428461475, 86306.01354079331, 102618.40149618634, 46664.03143234839, 38595.157369763016, 36315.582991715855, 41049.22540267707, 32168.731009750267, 54142.00717407119]\n",
      "SVM: [11077.641968877968, 9434.571239312236, 10180.241044684466, 10561.374071018565, 9822.66707506571, 10903.502516669876, 10857.735500519211, 9624.810659271408, 10357.268784331884, 10656.699712866686, 10669.240934947698, 10268.23627678442, 10742.717547637178, 9828.559412633613, 11475.207585034155, 10019.278811532517, 10476.306715406685, 11040.63347712778, 10627.434628806936, 10405.1518786923]\n",
      "RF: [22948.14104833957, 21246.98111587061, 23214.843372004303, 23131.664409485114, 23821.929300852265, 23343.79348507629, 23606.65357055632, 21928.87648356053, 22221.44447232596, 22392.03815344155, 21235.662087166493, 24857.643563340524, 23100.28877356948, 22774.80485660614, 25242.976788233824, 21614.685601690584, 22821.577335196696, 21577.32954265677, 23742.952780948763, 21130.24073023198]\n",
      "GB: [16040.26619396365, 16247.455443599289, 14800.451719271252, 15938.565592661147, 16439.130981948554, 16074.356365333462, 16122.663833630331, 16058.761937670046, 14922.36439402506, 15545.013693293153, 15757.23610475308, 16294.865222865508, 16505.34551752691, 15052.893626151112, 17126.290702623937, 15797.096008503257, 15595.107326899391, 15123.69946785818, 17033.1488958557, 16242.300733646673]\n",
      "RML: []\n"
     ]
    }
   ],
   "source": [
    "df = pd.read_csv('/home/portmap/Unioeste/2024/AM/trabalho1/AM-class/regression/logs/logs1.csv')\n",
    "\n",
    "\n",
    "knr = df[df['alg'] == 'KNR']['rmse'].tolist()\n",
    "mlp = df[df['alg'] == 'MLP']['rmse'].tolist()\n",
    "svm = df[df['alg'] == 'SVM']['rmse'].tolist()\n",
    "rf = df[df['alg'] == 'RF']['rmse'].tolist()\n",
    "gb = df[df['alg'] == 'GB']['rmse'].tolist()\n",
    "rml = df[df['alg'] == 'RLM']['rmse'].tolist()\n",
    "\n",
    "\n",
    "print(\"KNR:\", knr)\n",
    "print(\"MLP:\", mlp)\n",
    "print(\"SVM:\", svm)\n",
    "print(\"RF:\", rf)\n",
    "print(\"GB:\", gb)\n",
    "print(\"RML:\", rml)\n"
   ]
  },
  {
   "cell_type": "code",
   "execution_count": 26,
   "metadata": {},
   "outputs": [
    {
     "name": "stdout",
     "output_type": "stream",
     "text": [
      "Estatística H: nan\n",
      "Valor-p: nan\n",
      "Falha em rejeitar H0. Não há evidência suficiente para afirmar que algum classificador tenha desempenho diferente.\n"
     ]
    },
    {
     "name": "stderr",
     "output_type": "stream",
     "text": [
      "/tmp/ipykernel_12529/2620022454.py:1: SmallSampleWarning: One or more sample arguments is too small; all returned values will be NaN. See documentation for sample size requirements.\n",
      "  stat, p_value = kruskal(knr, mlp, svm, rf, gb, rml)\n"
     ]
    }
   ],
   "source": [
    "stat, p_value = kruskal(knr, mlp, svm, rf, gb, rml)\n",
    "\n",
    "print(f\"Estatística H: {stat}\")\n",
    "print(f\"Valor-p: {p_value}\")\n",
    "\n",
    "if p_value < 0.05:\n",
    "    print(\"Rejeitamos H0. Há pelo menos um classificador com desempenho diferente.\")\n",
    "else:\n",
    "    print(\"Falha em rejeitar H0. Não há evidência suficiente para afirmar que algum classificador tenha desempenho diferente.\")\n"
   ]
  },
  {
   "cell_type": "code",
   "execution_count": 27,
   "metadata": {},
   "outputs": [
    {
     "name": "stdout",
     "output_type": "stream",
     "text": [
      "    Comparação  Estatística U  Valor-p Diferença Significativa\n",
      "0   KNR vs MLP            NaN      NaN                     Não\n",
      "1   KNR vs SVM            NaN      NaN                     Não\n",
      "2   KNR vs RLM            NaN      NaN                     Não\n",
      "3    KNR vs RF            NaN      NaN                     Não\n",
      "4    KNR vs GB            NaN      NaN                     Não\n",
      "5   MLP vs SVM            NaN      NaN                     Não\n",
      "6   MLP vs RLM            NaN      NaN                     Não\n",
      "7    MLP vs RF            NaN      NaN                     Não\n",
      "8    MLP vs GB            NaN      NaN                     Não\n",
      "9   SVM vs RLM            NaN      NaN                     Não\n",
      "10   SVM vs RF            NaN      NaN                     Não\n",
      "11   SVM vs GB            NaN      NaN                     Não\n",
      "12   RLM vs RF            NaN      NaN                     Não\n",
      "13   RLM vs GB            NaN      NaN                     Não\n",
      "14    RF vs GB            NaN      NaN                     Não\n"
     ]
    },
    {
     "name": "stderr",
     "output_type": "stream",
     "text": [
      "/tmp/ipykernel_12529/22372452.py:24: SmallSampleWarning: One or more sample arguments is too small; all returned values will be NaN. See documentation for sample size requirements.\n",
      "  stat, p_value = mannwhitneyu(grupo1, grupo2)\n"
     ]
    }
   ],
   "source": [
    "comparacoes = [\n",
    "    ('KNR vs MLP', knr, mlp),\n",
    "    ('KNR vs SVM', knr, svm),\n",
    "    ('KNR vs RLM', knr, rml),\n",
    "    ('KNR vs RF', knr, rf),  \n",
    "    ('KNR vs GB', knr, gb),\n",
    "    ('MLP vs SVM', mlp, svm),\n",
    "    ('MLP vs RLM', mlp, rml),\n",
    "    ('MLP vs RF', mlp, rf),\n",
    "    ('MLP vs GB', mlp, gb),\n",
    "    ('SVM vs RLM', svm, rml),\n",
    "    ('SVM vs RF', svm, rf),\n",
    "    ('SVM vs GB', svm, gb),\n",
    "    ('RLM vs RF', rml, rf),\n",
    "    ('RLM vs GB', rml, gb),\n",
    "    ('RF vs GB', rf, gb)\n",
    "]\n",
    "\n",
    "\n",
    "# Lista para armazenar os resultados\n",
    "resultados = []\n",
    "\n",
    "for nome, grupo1, grupo2 in comparacoes:\n",
    "    stat, p_value = mannwhitneyu(grupo1, grupo2)\n",
    "    significancia = \"Sim\" if p_value < 0.05 else \"Não\"\n",
    "    resultados.append([nome, stat, p_value, significancia])\n",
    "\n",
    "# Criar um DataFrame para exibir os resultados\n",
    "tabela_resultados = pd.DataFrame(resultados, columns=[\"Comparação\", \"Estatística U\", \"Valor-p\", \"Diferença Significativa\"])\n",
    "\n",
    "# Exibir a tabela\n",
    "print(tabela_resultados.round(3))"
   ]
  },
  {
   "cell_type": "code",
   "execution_count": 28,
   "metadata": {},
   "outputs": [
    {
     "name": "stdout",
     "output_type": "stream",
     "text": [
      "    alg        mean        std\n",
      "0    GB   15935.851    635.541\n",
      "1   KNR  355462.274   8386.367\n",
      "2   MLP   46273.599  19173.820\n",
      "3    RF   22797.726   1153.580\n",
      "4   RLM    9913.128    460.531\n",
      "5   SVM   10451.464    522.165\n"
     ]
    }
   ],
   "source": [
    "\n",
    "data = pd.read_csv('./logs/logs.csv')\n",
    "\n",
    "estatisticas = data.groupby('alg')['rmse'].agg(['mean', 'std']).reset_index()\n",
    "\n",
    "print(estatisticas.round(3))\n"
   ]
  },
  {
   "cell_type": "markdown",
   "metadata": {},
   "source": []
  },
  {
   "cell_type": "code",
   "execution_count": 29,
   "metadata": {},
   "outputs": [],
   "source": [
    "# import pandas as pd\n",
    "\n",
    "\n",
    "# arquivos = {\n",
    "#     'KNN': 'log_params_knn.csv',\n",
    "#     'Árvore de Decisão': 'log_params_ad.csv',\n",
    "#     'MLP': 'log_params_mlp.csv',\n",
    "#     'SVM': 'log_params_svm.csv'\n",
    "# }\n",
    "\n",
    "\n",
    "# for classificador, arquivo in arquivos.items():\n",
    "#     df = pd.read_csv(arquivo) \n",
    "\n",
    "#     if arquivo == 'log_params_mlp.csv':\n",
    "#         df = pd.read_csv(arquivo, delimiter=';')\n",
    "\n",
    "#     moda = df.mode().iloc[0]\n",
    "\n",
    "#     print(classificador,moda,'\\n')\n",
    "\n",
    "\n"
   ]
  },
  {
   "cell_type": "code",
   "execution_count": 30,
   "metadata": {},
   "outputs": [],
   "source": [
    "\n",
    "# monoliticos = {\n",
    "#     'KNN': sum(knn) / len(knn),\n",
    "#     'NB': sum(nb) / len(nb),\n",
    "#     'MLP': sum(mlp) / len(mlp),\n",
    "#     'AD': sum(ad) / len(ad),\n",
    "#     'SVM': sum(svm) / len(svm)\n",
    "# }\n",
    "\n",
    "# multiclassificadores = {\n",
    "#     'Soma': sum(soma) / len(soma),\n",
    "#     'Voto Majoritário': sum(voto_majoritario) / len(voto_majoritario),\n",
    "#     'Borda Count': sum(borda_count) / len(borda_count)\n",
    "# }\n",
    "\n",
    "# melhor_monolitico = max(monoliticos, key=monoliticos.get)\n",
    "# melhor_multiclassificador = max(multiclassificadores, key=multiclassificadores.get)\n",
    "\n",
    "# print(f\"Melhor Monolítico: {melhor_monolitico} - Média: {monoliticos[melhor_monolitico]}\")\n",
    "# print(f\"Melhor Multi-Classificador: {melhor_multiclassificador} - Média: {multiclassificadores[melhor_multiclassificador]}\")\n",
    "\n",
    "\n",
    "\n",
    "# amostra_monolitico = [knn, nb, mlp, ad, svm][list(monoliticos.keys()).index(melhor_monolitico)]\n",
    "# amostra_multiclassificador = [soma, voto_majoritario, borda_count][list(multiclassificadores.keys()).index(melhor_multiclassificador)]\n",
    "\n",
    "# stat, p_value = mannwhitneyu(amostra_monolitico, amostra_multiclassificador, alternative='two-sided')\n",
    "# print(f\"Estatística U: {stat}\")\n",
    "# print(f\"Valor-p: {p_value}\")\n",
    "\n",
    "# if p_value < 0.05:\n",
    "#     print(\"Rejeitamos H0. Há pelo menos um classificador com desempenho diferente.\")\n",
    "# else:\n",
    "#     print(\"Falha em rejeitar H0. Não há evidência suficiente para afirmar que algum classificador tenha desempenho diferente.\")"
   ]
  }
 ],
 "metadata": {
  "kernelspec": {
   "display_name": "base",
   "language": "python",
   "name": "python3"
  },
  "language_info": {
   "codemirror_mode": {
    "name": "ipython",
    "version": 3
   },
   "file_extension": ".py",
   "mimetype": "text/x-python",
   "name": "python",
   "nbconvert_exporter": "python",
   "pygments_lexer": "ipython3",
   "version": "3.12.2"
  }
 },
 "nbformat": 4,
 "nbformat_minor": 2
}
